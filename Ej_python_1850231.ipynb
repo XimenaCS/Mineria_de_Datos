{
  "nbformat": 4,
  "nbformat_minor": 0,
  "metadata": {
    "colab": {
      "name": "Ej_python_1850231.ipynb",
      "provenance": [],
      "collapsed_sections": [
        "LosE-XO3TSvx",
        "pEzZ_JMELEY0",
        "jp3o-023P91s",
        "pdMh15_fco3v",
        "Ee0YTxn1_mzK"
      ],
      "authorship_tag": "ABX9TyO2pLHtoBCCmhKty6Fo009M",
      "include_colab_link": true
    },
    "kernelspec": {
      "name": "python3",
      "display_name": "Python 3"
    },
    "language_info": {
      "name": "python"
    }
  },
  "cells": [
    {
      "cell_type": "markdown",
      "metadata": {
        "id": "view-in-github",
        "colab_type": "text"
      },
      "source": [
        "<a href=\"https://colab.research.google.com/github/XimenaCS/Mineria_de_Datos/blob/main/Ej_python_1850231.ipynb\" target=\"_parent\"><img src=\"https://colab.research.google.com/assets/colab-badge.svg\" alt=\"Open In Colab\"/></a>"
      ]
    },
    {
      "cell_type": "markdown",
      "metadata": {
        "id": "LosE-XO3TSvx"
      },
      "source": [
        "#**Ejercicios 1-5**\n",
        "**Ejercicio 1:**\n",
        "Realiza una variable con tu matricula y realiza una secuencia de imprimir con tu nombre y tu matricula concatenados."
      ]
    },
    {
      "cell_type": "code",
      "metadata": {
        "colab": {
          "base_uri": "https://localhost:8080/"
        },
        "id": "innmsudKUV-K",
        "outputId": "67cb4544-d67d-4a71-fc0e-efaae306c35f"
      },
      "source": [
        "Matricula = int(input(\"Introduce tu matrícula: \"))\n",
        "Nombre=input(\"Introduce tu nombre: \")\n",
        "print(Nombre, Matricula)"
      ],
      "execution_count": null,
      "outputs": [
        {
          "output_type": "stream",
          "text": [
            "Introduce tu matrícula: 1850231\n",
            "Introduce tu nombre: Ximena Cid\n",
            "Ximena Cid 1850231\n"
          ],
          "name": "stdout"
        }
      ]
    },
    {
      "cell_type": "markdown",
      "metadata": {
        "id": "Y38h59JfU5oT"
      },
      "source": [
        "**Ejercicio 2:**\n",
        "Pidiendo el input del usuario pide dos números y crea una pequeña calculadora con los operadores básicos de suma, resta, multiplicación, división, y exponente."
      ]
    },
    {
      "cell_type": "code",
      "metadata": {
        "colab": {
          "base_uri": "https://localhost:8080/"
        },
        "id": "Yn1mbz81VOvf",
        "outputId": "2dd885de-cf75-4692-cf8f-8822d05923f1"
      },
      "source": [
        "a = float(input(\"Ingresa número 1: \"))\n",
        "b = float(input(\"Ingresa número 2: \"))\n",
        "z= input(\"Ingresa la operación deseada (SUMA/RESTA/DIVISION/MULTIPLICACION/EXPONENTE): \")\n",
        "if z == \"SUMA\": \n",
        "    r = a+b\n",
        "elif z == \"RESTA\":\n",
        "    r=a-b\n",
        "elif z == \"DIVISION\": \n",
        "    r=a/b\n",
        "elif z == \"MULTIPLICACION\": \n",
        "    r=a*b\n",
        "else: \n",
        "    r=a**b\n",
        "            \n",
        "print(\"El/La\", z, \"es: \",r)\n"
      ],
      "execution_count": null,
      "outputs": [
        {
          "output_type": "stream",
          "text": [
            "Ingresa número 1: 5\n",
            "Ingresa número 2: 2\n",
            "Ingresa la operación deseada (SUMA/RESTA/DIVISION/MULTIPLICACION/EXPONENTE): EXPONENTE\n",
            "El/La EXPONENTE es:  25.0\n"
          ],
          "name": "stdout"
        }
      ]
    },
    {
      "cell_type": "markdown",
      "metadata": {
        "id": "j7J9jJ45E2lq"
      },
      "source": [
        "**Ejercicio 3:**\n",
        "Con loop while o for, realiza una lista de 10 numeros multiplos de 3, y después realiza una función de loop que sume todos los números dentro del arreglo."
      ]
    },
    {
      "cell_type": "code",
      "metadata": {
        "colab": {
          "base_uri": "https://localhost:8080/"
        },
        "id": "tb0HSQRUE5L0",
        "outputId": "f574d9bd-834e-4813-e212-2f49ed05aa5e"
      },
      "source": [
        "x=0\n",
        "z=0\n",
        "for i in range (1,11):\n",
        "    x = i*3\n",
        "    z = z+x\n",
        "    print(x)\n",
        "print (\"La suma del arreglo es: \", z)"
      ],
      "execution_count": null,
      "outputs": [
        {
          "output_type": "stream",
          "text": [
            "3\n",
            "6\n",
            "9\n",
            "12\n",
            "15\n",
            "18\n",
            "21\n",
            "24\n",
            "27\n",
            "30\n",
            "La suma del arreglo es:  165\n"
          ],
          "name": "stdout"
        }
      ]
    },
    {
      "cell_type": "markdown",
      "metadata": {
        "id": "iemBl-AUF0zq"
      },
      "source": [
        "**Ejercicio 4:**\n",
        "*   Con una función de if else, revisar si un número es par o es impar.\n",
        "*   Con una función de if else, revisar si un número es primo o no."
      ]
    },
    {
      "cell_type": "code",
      "metadata": {
        "colab": {
          "base_uri": "https://localhost:8080/"
        },
        "id": "omYsOMwDG9Ul",
        "outputId": "aa287f7f-ae06-4c21-a889-ca833cec66ae"
      },
      "source": [
        "x = int(input(\"Ingresar un número: \"))\n",
        "#CHECA SI ES PAR\n",
        "if x%2 == 0:\n",
        "    print(x, \"es un número par\")\n",
        "else:\n",
        "    print(x, \"no es un número par\")\n",
        "\n",
        "#CHECA SI ES PRIMO   \n",
        "valor= range(2,x)\n",
        "contador = 0\n",
        "for n in valor:\n",
        "  if x % n == 0:\n",
        "    contador +=1\n",
        "    print(\"Divisor:\", n)\n",
        " \n",
        "if contador > 0 :\n",
        "  print(\"El número no es primo\" )\n",
        "else:\n",
        "  print(\"El número es primo\")"
      ],
      "execution_count": null,
      "outputs": [
        {
          "output_type": "stream",
          "text": [
            "Ingresar un número: 11\n",
            "11 no es un número par\n",
            "El número es primo\n"
          ],
          "name": "stdout"
        }
      ]
    },
    {
      "cell_type": "markdown",
      "metadata": {
        "id": "KN6mDsxLJGOd"
      },
      "source": [
        "**Ejercicio 5:**\n",
        "Utilizando diferentes clases en python, crea una calculadora con los operadores básicos de suma, resta, multiplicación, división, y exponente."
      ]
    },
    {
      "cell_type": "code",
      "metadata": {
        "colab": {
          "base_uri": "https://localhost:8080/"
        },
        "id": "gk7In8OtJ1P6",
        "outputId": "86c7f65f-c906-4492-ed34-d44b43a21de7"
      },
      "source": [
        "class cal():\n",
        "    def __init__(self,a,b):\n",
        "        self.a=a\n",
        "        self.b=b\n",
        "    def add(self):\n",
        "        return self.a+self.b\n",
        "    def mul(self):\n",
        "        return self.a*self.b\n",
        "    def div(self):\n",
        "        return self.a/self.b\n",
        "    def sub(self):\n",
        "        return self.a-self.b\n",
        "a=int(input(\"Ingresa el primer número: \"))\n",
        "b=int(input(\"Ingresa el segundo número: \"))\n",
        "obj=cal(a,b)\n",
        "z=1\n",
        "while z!=0:\n",
        "    print(\"0. Salir\")\n",
        "    print(\"1. Sumar\")\n",
        "    print(\"2. Restar\")\n",
        "    print(\"3. Multiplicar\")\n",
        "    print(\"4. Dividir\")\n",
        "    z=int(input(\"Ingresa una opción: \"))\n",
        "    if z==1:\n",
        "        print(\"Resultado: \",obj.add())\n",
        "    elif z==2:\n",
        "        print(\"Resultado: \",obj.sub())\n",
        "    elif z==3:\n",
        "        print(\"Resultado: \",obj.mul())\n",
        "    elif z==4:\n",
        "        print(\"Resultado: \",round(obj.div(),2))\n",
        "    elif z==0:\n",
        "        print(\"Saliendo!\")\n",
        "    else:\n",
        "        print(\"Opción invalida\")\n",
        " \n",
        "#Fuente https://www.sanfoundry.com/python-program-class-performs-basic-calculator-operations/"
      ],
      "execution_count": null,
      "outputs": [
        {
          "output_type": "stream",
          "text": [
            "Ingresa el primer número: 5\n",
            "Ingresa el segundo número: 2\n",
            "0. Salir\n",
            "1. Sumar\n",
            "2. Restar\n",
            "3. Multiplicar\n",
            "4. Dividir\n",
            "Ingresa una opción: 1\n",
            "Resultado:  7\n",
            "0. Salir\n",
            "1. Sumar\n",
            "2. Restar\n",
            "3. Multiplicar\n",
            "4. Dividir\n",
            "Ingresa una opción: 2\n",
            "Resultado:  3\n",
            "0. Salir\n",
            "1. Sumar\n",
            "2. Restar\n",
            "3. Multiplicar\n",
            "4. Dividir\n",
            "Ingresa una opción: 3\n",
            "Resultado:  10\n",
            "0. Salir\n",
            "1. Sumar\n",
            "2. Restar\n",
            "3. Multiplicar\n",
            "4. Dividir\n",
            "Ingresa una opción: 4\n",
            "Resultado:  2.5\n",
            "0. Salir\n",
            "1. Sumar\n",
            "2. Restar\n",
            "3. Multiplicar\n",
            "4. Dividir\n",
            "Ingresa una opción: 0\n",
            "Saliendo!\n"
          ],
          "name": "stdout"
        }
      ]
    },
    {
      "cell_type": "markdown",
      "metadata": {
        "id": "pEzZ_JMELEY0"
      },
      "source": [
        "# **Tuplas**\n",
        "Crear una variable flotante, integer, boleana y compleja e imprimir el tipo de variable que es."
      ]
    },
    {
      "cell_type": "code",
      "metadata": {
        "colab": {
          "base_uri": "https://localhost:8080/"
        },
        "id": "JlDW31-BLXy6",
        "outputId": "1e4239b9-fa5d-41cd-b210-c9366c2b56e5"
      },
      "source": [
        "a = 5.15\n",
        "b = 10\n",
        "c = True\n",
        "d = 4 + 2j\n",
        "print(\"La variable a es de tipo: \", type (a))\n",
        "print(\"La variable b es de tipo: \", type (b))\n",
        "print(\"La variable c es de tipo: \", type (c))\n",
        "print(\"La variable d es de tipo: \", type (d))"
      ],
      "execution_count": null,
      "outputs": [
        {
          "output_type": "stream",
          "text": [
            "La variable a es de tipo:  <class 'float'>\n",
            "La variable b es de tipo:  <class 'int'>\n",
            "La variable c es de tipo:  <class 'bool'>\n",
            "La variable d es de tipo:  <class 'complex'>\n"
          ],
          "name": "stdout"
        }
      ]
    },
    {
      "cell_type": "markdown",
      "metadata": {
        "id": "mRj8JGBUMDMp"
      },
      "source": [
        "Crear una tupla con valores enteros, imprimir el primer y último valor."
      ]
    },
    {
      "cell_type": "code",
      "metadata": {
        "colab": {
          "base_uri": "https://localhost:8080/"
        },
        "id": "1gldNumAMG4g",
        "outputId": "0a17fef1-9199-4090-de2b-8c6ba39c11d0"
      },
      "source": [
        "t=(1, 2, 3, 4, 5)\n",
        "print (\"El primer valor de la tupla es: \", t[0])\n",
        "print (\"El último valor de la tupla es: \", t[4])"
      ],
      "execution_count": null,
      "outputs": [
        {
          "output_type": "stream",
          "text": [
            "El primer valor de la tupla es:  1\n",
            "El último valor de la tupla es:  5\n"
          ],
          "name": "stdout"
        }
      ]
    },
    {
      "cell_type": "markdown",
      "metadata": {
        "id": "5txLlA12MxTm"
      },
      "source": [
        "Añadir 3 valores de string a la tupla"
      ]
    },
    {
      "cell_type": "code",
      "metadata": {
        "colab": {
          "base_uri": "https://localhost:8080/"
        },
        "id": "yh_02V51M0uh",
        "outputId": "e22ed282-85b2-4399-a17e-6f81a94d8331"
      },
      "source": [
        "tupla = (1, ['a', 'b'], 'z', 8)\n",
        "print(\"Tupla original: \",tupla)\n",
        "tupla[1].append('c') # tupla[1] hace referencia a la lista\n",
        "tupla[1].append('d') \n",
        "tupla[1].append('e') \n",
        "print(\"Tupla nueva: \",tupla)\n",
        "\n",
        "#Fuente https://j2logo.com/python/tutorial/tipo-tuple-python/#tuple-update"
      ],
      "execution_count": null,
      "outputs": [
        {
          "output_type": "stream",
          "text": [
            "Tupla original:  (1, ['a', 'b'], 'z', 8)\n",
            "Tupla nueva:  (1, ['a', 'b', 'c', 'd', 'e'], 'z', 8)\n"
          ],
          "name": "stdout"
        }
      ]
    },
    {
      "cell_type": "markdown",
      "metadata": {
        "id": "jwzltaZTO-8T"
      },
      "source": [
        "Verificar si una variable existe dentro de la tupla."
      ]
    },
    {
      "cell_type": "code",
      "metadata": {
        "colab": {
          "base_uri": "https://localhost:8080/"
        },
        "id": "eCdrZKmgPKHs",
        "outputId": "4c2ddf49-c3f7-4167-c023-12d1b55f4d4a"
      },
      "source": [
        "t=(1, 2, 3, 4, 5)\n",
        "print(\"¿El 3 está en la tupla?\", 3 in t)\n",
        "print(\"¿El 0 está en la tupla?\", 0 in t)"
      ],
      "execution_count": null,
      "outputs": [
        {
          "output_type": "stream",
          "text": [
            "¿El 3 está en la tupla? True\n",
            "¿El 0 está en la tupla? False\n"
          ],
          "name": "stdout"
        }
      ]
    },
    {
      "cell_type": "markdown",
      "metadata": {
        "id": "jp3o-023P91s"
      },
      "source": [
        "# **Listas**\n",
        "Crear una lista con 40 elementos aleatorios enteros. "
      ]
    },
    {
      "cell_type": "code",
      "metadata": {
        "colab": {
          "base_uri": "https://localhost:8080/"
        },
        "id": "4dKYf_ZCQNBV",
        "outputId": "41eb1440-a7bd-45b3-d56b-23e52975a032"
      },
      "source": [
        "import random as r\n",
        "L = []\n",
        "for i in range (1,41):\n",
        "    L.append(r.randint(1, 1000))\n",
        "print (L)"
      ],
      "execution_count": null,
      "outputs": [
        {
          "output_type": "stream",
          "text": [
            "[864, 253, 221, 557, 338, 122, 684, 306, 807, 736, 150, 594, 28, 937, 513, 310, 541, 423, 33, 890, 410, 659, 736, 188, 856, 59, 83, 889, 469, 540, 751, 614, 114, 650, 259, 719, 483, 966, 820, 49]\n"
          ],
          "name": "stdout"
        }
      ]
    },
    {
      "cell_type": "markdown",
      "metadata": {
        "id": "RoHS6M6rRV0k"
      },
      "source": [
        "Con una funcion (def) crear dos listas nuevas a partir de la lista creada por numeros aleatorios, en la cual en una esten los elementos pares, y en la otra los elementos impares."
      ]
    },
    {
      "cell_type": "code",
      "metadata": {
        "colab": {
          "base_uri": "https://localhost:8080/"
        },
        "id": "TGVDH-HeRd3R",
        "outputId": "ba9d26fa-cee8-4bd6-e87c-f605e496304d"
      },
      "source": [
        "#PARES\n",
        "def pares(x):\n",
        "    p = []\n",
        "    for n in x:\n",
        "        if n % 2 == 0:\n",
        "            p.append(n)     \n",
        "    return p\n",
        "a=pares(L)\n",
        "#IMPARES\n",
        "def impares(x):\n",
        "    i = []\n",
        "    for n in x:\n",
        "        if n % 2 != 0:\n",
        "            i.append(n)       \n",
        "    return i\n",
        "b=impares(L)\n",
        "print (\"La lista de pares es: \", a)\n",
        "print (\"La lista de impares es: \", b)"
      ],
      "execution_count": null,
      "outputs": [
        {
          "output_type": "stream",
          "text": [
            "La lista de pares es:  [864, 338, 122, 684, 306, 736, 150, 594, 28, 310, 890, 410, 736, 188, 856, 540, 614, 114, 650, 966, 820]\n",
            "La lista de impares es:  [253, 221, 557, 807, 937, 513, 541, 423, 33, 659, 59, 83, 889, 469, 751, 259, 719, 483, 49]\n"
          ],
          "name": "stdout"
        }
      ]
    },
    {
      "cell_type": "markdown",
      "metadata": {
        "id": "2WBbvdSFXEik"
      },
      "source": [
        "Crear dos variables con la longitud de ambas listas nuevas e imprimir las variables."
      ]
    },
    {
      "cell_type": "code",
      "metadata": {
        "colab": {
          "base_uri": "https://localhost:8080/"
        },
        "id": "fHoa0BEVXF41",
        "outputId": "265c09d8-4820-4fd6-d9b9-835b91f5fcc0"
      },
      "source": [
        "x=[]\n",
        "y=[]\n",
        "\n",
        "for i in range(0,len(a)):\n",
        "        x.append(a[i])\n",
        "    \n",
        "for i in range(0,len(b)):\n",
        "        y.append(b[i])\n",
        "\n",
        "print(\"Pares\",x)\n",
        "print(\"Impares\",y)"
      ],
      "execution_count": null,
      "outputs": [
        {
          "output_type": "stream",
          "text": [
            "Pares [864, 338, 122, 684, 306, 736, 150, 594, 28, 310, 890, 410, 736, 188, 856, 540, 614, 114, 650, 966, 820]\n",
            "Impares [253, 221, 557, 807, 937, 513, 541, 423, 33, 659, 59, 83, 889, 469, 751, 259, 719, 483, 49]\n"
          ],
          "name": "stdout"
        }
      ]
    },
    {
      "cell_type": "markdown",
      "metadata": {
        "id": "o7lhuY9PYZ8V"
      },
      "source": [
        "Ordenar los elementos de la lista par de mayor a menor, y los de la lista impar de menor a mayor."
      ]
    },
    {
      "cell_type": "code",
      "metadata": {
        "colab": {
          "base_uri": "https://localhost:8080/"
        },
        "id": "ea39nzk2Yeot",
        "outputId": "bfd76817-40f1-4991-c60c-f3d0fc5d0b56"
      },
      "source": [
        "print(\"Pares ordenados\",sorted(x))\n",
        "print(\"Impares ordenados\",sorted(y))"
      ],
      "execution_count": null,
      "outputs": [
        {
          "output_type": "stream",
          "text": [
            "Pares ordenados [28, 114, 122, 150, 188, 306, 310, 338, 410, 540, 594, 614, 650, 684, 736, 736, 820, 856, 864, 890, 966]\n",
            "Impares ordenados [33, 49, 59, 83, 221, 253, 259, 423, 469, 483, 513, 541, 557, 659, 719, 751, 807, 889, 937]\n"
          ],
          "name": "stdout"
        }
      ]
    },
    {
      "cell_type": "markdown",
      "metadata": {
        "id": "UKRcjlVlY-hV"
      },
      "source": [
        "Utilizar al menos cuatro de las funciones de listas en python en la lista original de 40 elementos.\n"
      ]
    },
    {
      "cell_type": "code",
      "metadata": {
        "colab": {
          "base_uri": "https://localhost:8080/"
        },
        "id": "rBpfTBN7ZYY8",
        "outputId": "71fe71b3-6bc3-459d-e41c-7c0c09b64543"
      },
      "source": [
        "#Imprime el último elemento de la lista\n",
        "print(L[-1])\n",
        "#Suma 1 a todos los elementos de la lista\n",
        "for i in range(len(L)):\n",
        "    L[i]-=10\n",
        "print(L)\n",
        "#Imprime los primeros 5 de la lista\n",
        "print(L[0:4])\n",
        "#Inserta un elemento en la lista\n",
        "L.insert(0,4000)\n",
        "print(L)"
      ],
      "execution_count": null,
      "outputs": [
        {
          "output_type": "stream",
          "text": [
            "49\n",
            "[854, 243, 211, 547, 328, 112, 674, 296, 797, 726, 140, 584, 18, 927, 503, 300, 531, 413, 23, 880, 400, 649, 726, 178, 846, 49, 73, 879, 459, 530, 741, 604, 104, 640, 249, 709, 473, 956, 810, 39]\n",
            "[854, 243, 211, 547]\n",
            "[4000, 854, 243, 211, 547, 328, 112, 674, 296, 797, 726, 140, 584, 18, 927, 503, 300, 531, 413, 23, 880, 400, 649, 726, 178, 846, 49, 73, 879, 459, 530, 741, 604, 104, 640, 249, 709, 473, 956, 810, 39]\n"
          ],
          "name": "stdout"
        }
      ]
    },
    {
      "cell_type": "markdown",
      "metadata": {
        "id": "pdMh15_fco3v"
      },
      "source": [
        "# **Diccionarios**\n",
        "Crear un diccionario de 6 personas que conozcas con su primer nombre y su edad."
      ]
    },
    {
      "cell_type": "code",
      "metadata": {
        "colab": {
          "base_uri": "https://localhost:8080/"
        },
        "id": "oTypolExcu3h",
        "outputId": "70f986dd-bd69-4720-faf7-4f73824cd685"
      },
      "source": [
        "diccionario = {\"Ximena\":12,\"Regina\":19,\"Diego\":30,\"César\":71,\"José\":20,\"Lizeth\":22}\n",
        "print(diccionario)"
      ],
      "execution_count": null,
      "outputs": [
        {
          "output_type": "stream",
          "text": [
            "{'Ximena': 12, 'Regina': 19, 'Diego': 30, 'César': 71, 'José': 20, 'Lizeth': 22}\n"
          ],
          "name": "stdout"
        }
      ]
    },
    {
      "cell_type": "markdown",
      "metadata": {
        "id": "fV13CpMuz0QS"
      },
      "source": [
        "Crear una lista con los valores de la edad y reacomodar la lista de menor a mayor valor."
      ]
    },
    {
      "cell_type": "code",
      "metadata": {
        "colab": {
          "base_uri": "https://localhost:8080/"
        },
        "id": "cdawcc7s0CcR",
        "outputId": "2cb57455-c932-443a-a00f-fabea88f3f81"
      },
      "source": [
        "z=diccionario.values()\n",
        "print(sorted(z))"
      ],
      "execution_count": null,
      "outputs": [
        {
          "output_type": "stream",
          "text": [
            "[12, 19, 20, 22, 30, 71]\n"
          ],
          "name": "stdout"
        }
      ]
    },
    {
      "cell_type": "markdown",
      "metadata": {
        "id": "3iWpXArd3HT7"
      },
      "source": [
        "Usando el diccionario y un loop, imprimir solo los nombres."
      ]
    },
    {
      "cell_type": "code",
      "metadata": {
        "colab": {
          "base_uri": "https://localhost:8080/"
        },
        "id": "Q93vXk233NDY",
        "outputId": "2c5b48ac-c4c1-48f2-889c-792da4bd29d1"
      },
      "source": [
        "y = []\n",
        "for e in diccionario:\n",
        "    y.append(e)\n",
        "print(y)\n",
        "\n",
        "#Fuente https://j2logo.com/python/tutorial/tipo-dict-python/"
      ],
      "execution_count": null,
      "outputs": [
        {
          "output_type": "stream",
          "text": [
            "['Ximena', 'Regina', 'Diego', 'César', 'José', 'Lizeth']\n"
          ],
          "name": "stdout"
        }
      ]
    },
    {
      "cell_type": "markdown",
      "metadata": {
        "id": "kMcUuowc3c8f"
      },
      "source": [
        "Añadir dos personas nuevas a tu diccionario, incluyendo edad."
      ]
    },
    {
      "cell_type": "code",
      "metadata": {
        "colab": {
          "base_uri": "https://localhost:8080/"
        },
        "id": "D2ixWver3hFU",
        "outputId": "80761820-21da-4d75-bfb9-6e04497b6cea"
      },
      "source": [
        "diccionario.setdefault(\"Cristina\",20)\n",
        "diccionario.setdefault(\"Daniel\",25)\n",
        "print(diccionario)"
      ],
      "execution_count": null,
      "outputs": [
        {
          "output_type": "stream",
          "text": [
            "{'Ximena': 12, 'Regina': 19, 'Diego': 30, 'César': 71, 'José': 20, 'Lizeth': 22, 'Cristina': 20, 'Daniel': 25}\n"
          ],
          "name": "stdout"
        }
      ]
    },
    {
      "cell_type": "markdown",
      "metadata": {
        "id": "Ee0YTxn1_mzK"
      },
      "source": [
        "# **Sets**\n",
        "Crea un set con 100 numeros aleatorios enteros del 1 al 25."
      ]
    },
    {
      "cell_type": "code",
      "metadata": {
        "colab": {
          "base_uri": "https://localhost:8080/"
        },
        "id": "w6s7CxZo_ts4",
        "outputId": "8b4476bc-a40f-4e1d-e368-f0a9b865053a"
      },
      "source": [
        "import random as r\n",
        "L = []\n",
        "for i in range (0,100):\n",
        "    L.append(r.randint(1, 25))\n",
        "s = set(L)\n",
        "print(s)"
      ],
      "execution_count": null,
      "outputs": [
        {
          "output_type": "stream",
          "text": [
            "{1, 2, 3, 4, 5, 6, 7, 8, 9, 10, 11, 12, 13, 14, 15, 16, 17, 18, 19, 20, 21, 22, 23, 24, 25}\n"
          ],
          "name": "stdout"
        }
      ]
    },
    {
      "cell_type": "markdown",
      "metadata": {
        "id": "nQQ7ErihAXkq"
      },
      "source": [
        "Comprueba la longitud de tu set"
      ]
    },
    {
      "cell_type": "code",
      "metadata": {
        "colab": {
          "base_uri": "https://localhost:8080/"
        },
        "id": "3l9E7KRMAadO",
        "outputId": "ba7628ca-501d-415f-854d-2463b204c93a"
      },
      "source": [
        "print(len(s))"
      ],
      "execution_count": null,
      "outputs": [
        {
          "output_type": "stream",
          "text": [
            "25\n"
          ],
          "name": "stdout"
        }
      ]
    },
    {
      "cell_type": "markdown",
      "metadata": {
        "id": "lj4DGDmcAk_4"
      },
      "source": [
        "Crea una lista de 5 numeros aleatorios del 1 al 10 y comprueba si cada valor aparece en el set inicial."
      ]
    },
    {
      "cell_type": "code",
      "metadata": {
        "colab": {
          "base_uri": "https://localhost:8080/"
        },
        "id": "Hfyb3iERAoAR",
        "outputId": "6efce907-caeb-466b-e3e9-1c342e3e5f2f"
      },
      "source": [
        "L2=[]\n",
        "for i in range (0,5):\n",
        "    L2.append(r.randint(1, 10))\n",
        "print(L2)\n",
        "\n",
        "for i in range (0,5):\n",
        "        print(L2[i] in s)"
      ],
      "execution_count": null,
      "outputs": [
        {
          "output_type": "stream",
          "text": [
            "[6, 4, 6, 9, 2]\n",
            "True\n",
            "True\n",
            "True\n",
            "True\n",
            "True\n"
          ],
          "name": "stdout"
        }
      ]
    }
  ]
}